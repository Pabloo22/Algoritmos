{
 "cells": [
  {
   "cell_type": "code",
   "execution_count": 1,
   "metadata": {},
   "outputs": [],
   "source": [
    "from random import sample"
   ]
  },
  {
   "cell_type": "code",
   "execution_count": 30,
   "metadata": {},
   "outputs": [],
   "source": [
    "def crear_lista(n): \n",
    "    rango_posibles_numeros = range(0, 100)\n",
    "    lista = sample(rango_posibles_numeros, n)\n",
    "    print(lista)\n",
    "    return lista"
   ]
  },
  {
   "cell_type": "code",
   "execution_count": 20,
   "metadata": {},
   "outputs": [],
   "source": [
    "def algoritmoBurbuja(lista):\n",
    "    n = len(lista)\n",
    "    i = 0\n",
    "    ordenado = False\n",
    "    while(i < n and not ordenado):\n",
    "        i += 1\n",
    "        ordenado = True\n",
    "        for j in range(n-i):\n",
    "            if lista[j] > lista[j+1]:\n",
    "                ordenado = False\n",
    "                aux = lista[j]\n",
    "                lista[j] = lista[j+1]\n",
    "                lista[j+1] = aux\n",
    "        print(i)\n",
    "    return lista"
   ]
  },
  {
   "cell_type": "code",
   "execution_count": 33,
   "metadata": {},
   "outputs": [
    {
     "name": "stdout",
     "output_type": "stream",
     "text": [
      "[44, 87, 93]\n",
      "1\n",
      "[44, 87, 93]\n"
     ]
    }
   ],
   "source": [
    "lista = crear_lista(3)\n",
    "print(algoritmoBurbuja(lista))"
   ]
  },
  {
   "cell_type": "code",
   "execution_count": null,
   "metadata": {},
   "outputs": [],
   "source": []
  }
 ],
 "metadata": {
  "kernelspec": {
   "display_name": "Python 3",
   "language": "python",
   "name": "python3"
  },
  "language_info": {
   "codemirror_mode": {
    "name": "ipython",
    "version": 3
   },
   "file_extension": ".py",
   "mimetype": "text/x-python",
   "name": "python",
   "nbconvert_exporter": "python",
   "pygments_lexer": "ipython3",
   "version": "3.8.3"
  }
 },
 "nbformat": 4,
 "nbformat_minor": 4
}
